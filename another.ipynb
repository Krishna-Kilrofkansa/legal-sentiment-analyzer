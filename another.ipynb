{
    "metadata": {
        "kernelspec": {
            "name": "python3",
            "display_name": "Python 3.11",
            "language": "python"
        },
        "language_info": {
            "name": "python",
            "version": "3.11.13",
            "mimetype": "text/x-python",
            "codemirror_mode": {
                "name": "ipython",
                "version": 3
            },
            "pygments_lexer": "ipython3",
            "nbconvert_exporter": "python",
            "file_extension": ".py"
        }
    },
    "nbformat_minor": 4,
    "nbformat": 4,
    "cells": [
        {
            "cell_type": "code",
            "source": "import os, types, json, time\nimport pandas as pd\nfrom sklearn.model_selection import train_test_split\nfrom sklearn.metrics import classification_report, accuracy_score\nfrom botocore.client import Config\nimport ibm_boto3\nfrom tqdm.auto import tqdm\nfrom ibm_watson_machine_learning.metanames import GenTextParamsMetaNames as GenParams\nfrom ibm_watson_machine_learning.foundation_models import Model\n\nAPI_KEY    = os.getenv(\"IBM_CLOUD_APIKEY\", \"VZFvE0ufR4ePXpSobgdtuBLMCQmBjxVuhnUD7aYC4osl\")\nPROJECT_ID = os.getenv(\"PROJECT_ID\", \"a100f552-8d74-4455-a7cb-bee0dba6ffd2\")\nWML_URL    = os.getenv(\"WML_URL\",   \"https://us-south.ml.cloud.ibm.com\")\n\nCOS_ENDPOINT   = \"https://s3.us-south.cloud-object-storage.appdomain.cloud\"\nCOS_BUCKET     = \"sentiment-analysislegal\"\nCOS_OBJECT_KEY = \"legal sentiment analyzer.csv\"\n\nLABEL_MAP      = {-1: \"negative\", 0: \"neutral\", 1: \"positive\"}\nBATCH_SIZE     = 1         # \u26a0 For Lite plan: 1 request per second\nMAX_RETRIES    = 5",
            "metadata": {
                "id": "1afc1cd8-5904-4ea7-a559-3fe0f3c817e4"
            },
            "outputs": [],
            "execution_count": 55
        },
        {
            "cell_type": "code",
            "source": "# %% --------------- 3. CONNECT TO OBJECT STORAGE ---------\ncos = ibm_boto3.client(\n    service_name=\"s3\",\n    ibm_api_key_id=API_KEY,\n    ibm_auth_endpoint=\"https://iam.cloud.ibm.com/oidc/token\",\n    config=Config(signature_version=\"oauth\"),\n    endpoint_url=COS_ENDPOINT,\n)",
            "metadata": {
                "id": "db0fd636-7e87-43d9-930a-6b2b4dc446f6"
            },
            "outputs": [],
            "execution_count": 56
        },
        {
            "cell_type": "code",
            "source": "print(\"\u23f3 Loading dataset from COS \u2026\")\nbody = cos.get_object(Bucket=COS_BUCKET, Key=COS_OBJECT_KEY)[\"Body\"]\nif not hasattr(body, \"iter\"):\n    body.iter = types.MethodType(iter, body)\n\ndf = pd.read_csv(body).dropna(subset=[\"Phrase\", \"Sentiment\"])\ndf[\"Sentiment\"] = df[\"Sentiment\"].astype(int)\nprint(f\"\u2705 Loaded {len(df)} records.\")",
            "metadata": {
                "id": "a9c40f9c-553e-4b93-aac2-28603a4c1d01"
            },
            "outputs": [
                {
                    "name": "stdout",
                    "text": "\u23f3 Loading dataset from COS \u2026\n\u2705 Loaded 500 records.\n",
                    "output_type": "stream"
                }
            ],
            "execution_count": 57
        },
        {
            "cell_type": "code",
            "source": "train_df, test_df = train_test_split(df, test_size=0.25, random_state=42, stratify=df[\"Sentiment\"])",
            "metadata": {
                "id": "e579c476-e060-4637-8e48-7bd00ddb51f0"
            },
            "outputs": [],
            "execution_count": 58
        },
        {
            "cell_type": "code",
            "source": "def build_few_shot_prompt(df_samples, n_examples: int = 6):\n    shots = []\n    for _, row in df_samples.sample(n_examples, random_state=42).iterrows():\n        shots.append(f\"sentence: {row['Phrase']}\\nsentiment: {LABEL_MAP[row['Sentiment']]}\")\n    return (\n        \"Classify the sentiment of each legal sentence. Possible labels: positive, negative, neutral. \"\n        \"Return ONLY the label. Examples:\\n\" + \"\\n--\\n\".join(shots) + \"\\n----\\n\"\n    )\n\nprompt_base = build_few_shot_prompt(train_df)",
            "metadata": {
                "id": "3290edbf-6f1d-4e99-9a0b-a08c43cd2f86"
            },
            "outputs": [],
            "execution_count": 59
        },
        {
            "cell_type": "code",
            "source": "MODEL_ID = \"google/flan-t5-xxl\"\nparams = {\n    GenParams.DECODING_METHOD: \"greedy\",\n    GenParams.TEMPERATURE: 0.0,\n    GenParams.MAX_NEW_TOKENS: 3,\n    GenParams.MIN_NEW_TOKENS: 1,\n}\nmodel = Model(model_id=MODEL_ID, params=params, credentials={\"url\": WML_URL, \"apikey\": API_KEY}, project_id=PROJECT_ID)\nprint(\"\ud83e\udd16 Model ready:\", MODEL_ID)",
            "metadata": {
                "id": "945f1606-4e43-4c6f-b649-2491b27269a8"
            },
            "outputs": [
                {
                    "name": "stdout",
                    "text": "\ud83e\udd16 Model ready: google/flan-t5-xxl\n",
                    "output_type": "stream"
                },
                {
                    "name": "stderr",
                    "text": "/opt/conda/envs/Python-RT24.1/lib/python3.11/site-packages/ibm_watson_machine_learning/foundation_models/utils/utils.py:273: LifecycleWarning: Model 'google/flan-t5-xxl' is in deprecated state from 2025-05-28 until 2025-07-30. IDs of alternative models: None. Further details: https://dataplatform.cloud.ibm.com/docs/content/wsj/analyze-data/fm-model-lifecycle.html?context=wx&audience=wdp\n  warnings.warn(default_warning_template.format(\n",
                    "output_type": "stream"
                }
            ],
            "execution_count": 60
        },
        {
            "cell_type": "code",
            "source": "def classify(sentences, prompt):\n    preds = []\n    for sentence in tqdm(sentences, desc=\"Classifying\", unit=\"sample\"):\n        full_prompt = prompt + sentence\n        attempt = 0\n        while attempt < MAX_RETRIES:\n            try:\n                res = model.generate(full_prompt)[\"results\"]\n                label = res[0][\"generated_text\"].strip().lower().split()[0]\n                preds.append(label)\n                time.sleep(1.1)  # Lite plan rate limit: 1 request/sec\n                break\n            except Exception as e:\n                attempt += 1\n                wait_time = 2 ** attempt\n                print(f\"\u26a0\ufe0f  Retry {attempt} in {wait_time}s due to error: {str(e)[:100]}\")\n                time.sleep(wait_time)\n        else:\n            preds.append(\"error\")\n    return preds\n\nprint(\"\ud83d\ude80 Running inference on\", len(test_df), \"samples \u2026\")\ntrue_labels = [LABEL_MAP[x] for x in test_df[\"Sentiment\"].tolist()]\npred_labels = classify(test_df[\"Phrase\"].tolist(), prompt_base)",
            "metadata": {
                "id": "c005ba28-fc7d-4d2d-8c55-d2c076f5ff66",
                "msg_id": "53d7d5b8-3837-4713-a86a-98c2f949c4b5"
            },
            "outputs": [
                {
                    "name": "stdout",
                    "text": "\ud83d\ude80 Running inference on 125 samples \u2026\n",
                    "output_type": "stream"
                },
                {
                    "output_type": "display_data",
                    "data": {
                        "text/plain": "Classifying:   0%|          | 0/125 [00:00<?, ?sample/s]",
                        "application/vnd.jupyter.widget-view+json": {
                            "version_major": 2,
                            "version_minor": 0,
                            "model_id": "50414d32a35a480baea9879fa9e116de"
                        }
                    },
                    "metadata": {}
                }
            ],
            "execution_count": null
        },
        {
            "cell_type": "code",
            "source": "\nprint(\"\\n\ud83d\udcc8 Evaluation metrics:\")\nprint(classification_report(true_labels, pred_labels, digits=4))\nprint(\"Accuracy:\", accuracy_score(true_labels, pred_labels))\n",
            "metadata": {
                "id": "8a2ebc92-44f4-4eaa-88f4-c07ec727fffe",
                "msg_id": "7b26a33a-1cb6-46fe-8ee4-edd9111bea9b"
            },
            "outputs": [],
            "execution_count": null
        },
        {
            "cell_type": "code",
            "source": "# %% --------------- SAVE PREDICTIONS ----------------\nprint(\"\ud83d\udcbe Uploading predictions \u2026\")\noutput_key = \"predictions/legal_sentiment_predictions.csv\"\nexport_df = test_df.copy()\nexport_df[\"Predicted\"] = pred_labels\ncos.put_object(Bucket=COS_BUCKET, Key=output_key, Body=export_df.to_csv(index=False).encode())\nprint(f\"\u2705 File written: s3://{COS_BUCKET}/{output_key}\")\n",
            "metadata": {
                "id": "ec5c0d31-abbc-49b0-9a72-54a64487773a",
                "msg_id": "63ef1800-9f0a-4654-8e77-fba5688a450e"
            },
            "outputs": [],
            "execution_count": null
        },
        {
            "cell_type": "code",
            "source": "# %% ---------------  QUICK SUMMARY -------------------\nsummary_prompt = (\n    \"Summarize the sentiment distribution and trends in one paragraph:\\n\" +\n    json.dumps(export_df[[\"Phrase\", \"Predicted\"]].head(20).to_dict(\"records\"))\n)\nsummary = model.generate(summary_prompt)[\"results\"][0][\"generated_text\"].strip()\nprint(\"\\n\ud83d\udcdd Summary:\\n\", summary)",
            "metadata": {
                "id": "dedf2357-5249-4588-811c-ffad4b026e37",
                "msg_id": "eae88ba2-3f64-4e42-9a83-c949222f352e"
            },
            "outputs": [],
            "execution_count": null
        },
        {
            "cell_type": "code",
            "source": "print(\"\ud83c\udfc1 Finished.\")\n",
            "metadata": {
                "id": "beb91198-ed10-47ec-b495-d95f481acebd",
                "msg_id": "7e6948d3-f8e6-45eb-aed2-1ce586373222"
            },
            "outputs": [],
            "execution_count": null
        },
        {
            "cell_type": "code",
            "source": "",
            "metadata": {
                "id": "6ec69f6c-9695-4906-b3c6-510f873dc32b"
            },
            "outputs": [],
            "execution_count": null
        }
    ]
}